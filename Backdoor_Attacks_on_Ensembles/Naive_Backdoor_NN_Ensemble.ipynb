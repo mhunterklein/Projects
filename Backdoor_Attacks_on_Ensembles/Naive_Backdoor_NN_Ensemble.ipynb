{
 "cells": [
  {
   "cell_type": "code",
   "execution_count": 1,
   "metadata": {},
   "outputs": [],
   "source": [
    "import torch\n",
    "import torchvision\n",
    "import torch.nn as nn\n",
    "from torchvision import datasets, transforms\n",
    "from torch.utils.data import DataLoader, TensorDataset\n",
    "import matplotlib.pyplot as plt\n",
    "import numpy as np"
   ]
  },
  {
   "cell_type": "code",
   "execution_count": 2,
   "metadata": {},
   "outputs": [],
   "source": [
    "class learner(nn.Module):\n",
    "    def __init__(self,in_dim,out_dim,h=[100,50,20,20]):\n",
    "        super(learner,self).__init__()\n",
    "        self.in_dim = in_dim\n",
    "        self.out_dim = out_dim\n",
    "        self.predictor = nn.Sequential(nn.Linear(in_dim,h[0]),\n",
    "                                        nn.ELU(),\n",
    "                                        nn.Linear(h[0],h[1]),\n",
    "                                        nn.ELU(),\n",
    "                                        nn.Linear(h[1],h[2]),\n",
    "                                        nn.ELU(),\n",
    "                                        nn.Linear(h[2],h[3]),\n",
    "                                        nn.ELU(),\n",
    "                                        nn.Linear(h[3],out_dim),\n",
    "                                        nn.LogSoftmax(dim=1))\n",
    "        \n",
    "    def forward(self,X):\n",
    "        return self.predictor(X)\n",
    "\n",
    "\n",
    "class ensemble(nn.Module):\n",
    "    def __init__(self,in_dim,out_dim,num_learners=30,h=None):\n",
    "        super(ensemble,self).__init__()\n",
    "        self.in_dim = in_dim\n",
    "        self.out_dim = out_dim\n",
    "        self.num_learners = num_learners\n",
    "        self.ensemble = nn.ModuleList([learner(self.in_dim,self.out_dim) for idx in range(self.num_learners)])\n",
    "\n",
    "    def forward(self,X,idx=None):\n",
    "        if idx is not None:\n",
    "            y_pred = self.ensemble[idx](X)\n",
    "        \n",
    "        else:\n",
    "            y_pred = torch.zeros(out_dim)\n",
    "            for model in self.ensemble:\n",
    "                y_pred += model(X) / self.num_learners\n",
    "        \n",
    "        return y_pred\n",
    "\n",
    "\n",
    "\n"
   ]
  },
  {
   "cell_type": "code",
   "execution_count": 3,
   "metadata": {},
   "outputs": [],
   "source": [
    "def backdoor_attack(X,y,method='naive',target_class=2):\n",
    "\n",
    "    for idx in range(X.shape[0]):\n",
    "        if method=='naive':\n",
    "            X[idx,0,:3,:3] = 0\n",
    "            y[idx] = target_class\n",
    "\n",
    "    return X, y\n",
    "    "
   ]
  },
  {
   "cell_type": "code",
   "execution_count": 4,
   "metadata": {},
   "outputs": [],
   "source": [
    "# Transform to normalized Tensors \n",
    "transform = transforms.Compose([transforms.ToTensor(),\n",
    "                                transforms.Normalize((0.1307,), (0.3081,))])\n",
    "\n",
    "train_dataset = datasets.MNIST('.\\\\data\\\\', train=True, transform=transform, download=True)\n",
    "test_dataset = datasets.MNIST('.\\\\data\\\\', train=False, transform=transform, download=True)\n",
    "\n",
    "\n",
    "train_loader = DataLoader(train_dataset, batch_size=len(train_dataset))\n",
    "test_loader = DataLoader(test_dataset, batch_size=len(test_dataset))\n",
    "\n",
    "train_dataset_array = next(iter(train_loader))[0].numpy()\n",
    "test_dataset_array = next(iter(test_loader))[0].numpy()\n",
    "\n",
    "train_labels_array = next(iter(train_loader))[1].numpy()\n",
    "test_labels_array = next(iter(test_loader))[1].numpy()"
   ]
  },
  {
   "cell_type": "code",
   "execution_count": 5,
   "metadata": {},
   "outputs": [],
   "source": [
    "BACKDOOR_PERC = .01\n",
    "\n",
    "backdoor_train_dataset_array = train_dataset_array[:int(train_dataset_array.shape[0]*.1)]\n",
    "backdoor_train_labels_array = train_labels_array[:int(train_dataset_array.shape[0]*.1)]\n",
    "clean_train_dataset_array = train_dataset_array[int(train_dataset_array.shape[0]*.1):]\n",
    "clean_train_labels_array = train_labels_array[int(train_dataset_array.shape[0]*.1):]\n",
    "\n",
    "backdoor_test_dataset_array = test_dataset_array[:int(test_dataset_array.shape[0]*.1)]\n",
    "backdoor_test_labels_array = test_labels_array[:int(test_dataset_array.shape[0]*.1)]\n",
    "clean_test_dataset_array = test_dataset_array[int(test_dataset_array.shape[0]*.1):]\n",
    "clean_test_labels_array = test_labels_array[int(test_dataset_array.shape[0]*.1):]"
   ]
  },
  {
   "cell_type": "code",
   "execution_count": 6,
   "metadata": {},
   "outputs": [
    {
     "data": {
      "image/png": "[encoded data removed]",
      "text/plain": [
       "<Figure size 432x288 with 1 Axes>"
      ]
     },
     "metadata": {
      "needs_background": "light"
     },
     "output_type": "display_data"
    },
    {
     "data": {
      "image/png": "[encoded data removed]",
      "text/plain": [
       "<Figure size 432x288 with 1 Axes>"
      ]
     },
     "metadata": {
      "needs_background": "light"
     },
     "output_type": "display_data"
    }
   ],
   "source": [
    "#Check for even distribution\n",
    "plt.hist(backdoor_train_labels_array)\n",
    "plt.title('train Backdoor Labels Histogram')\n",
    "plt.show()\n",
    "\n",
    "plt.hist(backdoor_test_labels_array)\n",
    "plt.title('Test Backdoor Labels Histogram')\n",
    "plt.show()"
   ]
  },
  {
   "cell_type": "code",
   "execution_count": 7,
   "metadata": {},
   "outputs": [],
   "source": [
    "#Backdoor and Create our composite dataset\n",
    "N_LEARNERS = 30\n",
    "backdoor_train_dataset_array, backdoor_train_labels_array = backdoor_attack(backdoor_train_dataset_array, backdoor_train_labels_array)\n",
    "backdoor_test_dataset_array, backdoor_test_labels_array = backdoor_attack(backdoor_test_dataset_array, backdoor_test_labels_array)\n",
    "\n",
    "contaminated_train_data = np.vstack([backdoor_train_dataset_array,clean_train_dataset_array])\n",
    "contaminated_train_labels = np.hstack([backdoor_train_labels_array,clean_train_labels_array])\n",
    "\n",
    "shuffle_train_idxs = np.arange(contaminated_train_data.shape[0])\n",
    "np.random.shuffle(shuffle_train_idxs)\n",
    "\n",
    "X_train = contaminated_train_data[shuffle_train_idxs,:,:,:]\n",
    "y_train = contaminated_train_labels[shuffle_train_idxs]\n",
    "\n",
    "X_train_t = torch.Tensor(X_train)\n",
    "y_train_t = torch.Tensor(y_train)\n",
    "\n",
    "BATCH_SIZE=20\n",
    "dset_list = [TensorDataset(tensor,label_tensor) for tensor,label_tensor in zip(torch.tensor_split(X_train_t,N_LEARNERS,dim=0),torch.tensor_split(y_train_t,N_LEARNERS,dim=0))]\n",
    "data_loader_list = [DataLoader(dset,batch_size=BATCH_SIZE,shuffle=True) for dset in dset_list]\n"
   ]
  },
  {
   "cell_type": "code",
   "execution_count": 11,
   "metadata": {},
   "outputs": [],
   "source": [
    "model = ensemble(28*28,10,num_learners=N_LEARNERS)\n",
    "optimizer = torch.optim.AdamW(model.parameters())\n",
    "nll_loss = nn.NLLLoss()\n",
    "loss_hist_dict = {}"
   ]
  },
  {
   "cell_type": "code",
   "execution_count": 12,
   "metadata": {},
   "outputs": [
    {
     "name": "stdout",
     "output_type": "stream",
     "text": [
      "loader: 0 epoch: 1 loss: 147.96572050452232\n",
      "loader: 0 epoch: 2 loss: 75.71333307027817\n",
      "loader: 0 epoch: 3 loss: 59.067860409617424\n",
      "loader: 0 epoch: 4 loss: 45.64425355195999\n",
      "loader: 0 epoch: 5 loss: 35.49629706144333\n",
      "loader: 0 epoch: 6 loss: 26.654766611754894\n",
      "loader: 0 epoch: 7 loss: 16.932926943525672\n",
      "loader: 0 epoch: 8 loss: 10.03421233035624\n",
      "loader: 0 epoch: 9 loss: 7.3502311538904905\n",
      "loader: 0 epoch: 10 loss: 5.6944917410146445\n",
      "loader: 0 epoch: 11 loss: 5.786312948446721\n",
      "loader: 0 epoch: 12 loss: 3.3356454557506368\n",
      "loader: 0 epoch: 13 loss: 1.811400288483128\n",
      "loader: 0 epoch: 14 loss: 0.7668972457177006\n",
      "loader: 0 epoch: 15 loss: 0.9846015764633194\n",
      "loader: 0 epoch: 16 loss: 1.5683553725248203\n",
      "loader: 0 epoch: 17 loss: 1.461870631959755\n",
      "loader: 0 epoch: 18 loss: 0.36902277551416773\n",
      "loader: 0 epoch: 19 loss: 0.17289677595545072\n",
      "loader: 1 epoch: 1 loss: 148.36838853359222\n",
      "loader: 1 epoch: 2 loss: 77.25570204854012\n",
      "loader: 1 epoch: 3 loss: 53.60187338292599\n",
      "loader: 1 epoch: 4 loss: 34.9005426838994\n",
      "loader: 1 epoch: 5 loss: 26.359989788383245\n",
      "loader: 1 epoch: 6 loss: 16.40219932794571\n",
      "loader: 1 epoch: 7 loss: 12.299798287451267\n",
      "loader: 1 epoch: 8 loss: 9.361266219057143\n",
      "loader: 1 epoch: 9 loss: 6.002216184511781\n",
      "loader: 1 epoch: 10 loss: 7.378845063969493\n",
      "loader: 1 epoch: 11 loss: 4.610047905240208\n",
      "loader: 1 epoch: 12 loss: 2.850433559855446\n",
      "loader: 1 epoch: 13 loss: 1.2899485467933118\n",
      "loader: 1 epoch: 14 loss: 0.8960988744802307\n",
      "loader: 1 epoch: 15 loss: 0.5520814934861846\n",
      "loader: 1 epoch: 16 loss: 0.37643894835491665\n",
      "loader: 1 epoch: 17 loss: 0.23979995610716287\n",
      "loader: 1 epoch: 18 loss: 0.1913364754364011\n",
      "loader: 1 epoch: 19 loss: 0.1500896122870472\n",
      "loader: 2 epoch: 1 loss: 151.8422977924347\n",
      "loader: 2 epoch: 2 loss: 80.00524404644966\n",
      "loader: 2 epoch: 3 loss: 55.818863943219185\n",
      "loader: 2 epoch: 4 loss: 40.26537847518921\n",
      "loader: 2 epoch: 5 loss: 26.278341822326183\n",
      "loader: 2 epoch: 6 loss: 19.24459688551724\n",
      "loader: 2 epoch: 7 loss: 15.04589157178998\n",
      "loader: 2 epoch: 8 loss: 16.236082727089524\n",
      "loader: 2 epoch: 9 loss: 7.827573386020958\n",
      "loader: 2 epoch: 10 loss: 5.368359457235783\n",
      "loader: 2 epoch: 11 loss: 4.5337188872508705\n",
      "loader: 2 epoch: 12 loss: 3.046233795583248\n",
      "loader: 2 epoch: 13 loss: 2.9023103149374947\n",
      "loader: 2 epoch: 14 loss: 5.612799516879022\n",
      "loader: 2 epoch: 15 loss: 3.758470914326608\n",
      "loader: 2 epoch: 16 loss: 5.8366108785849065\n",
      "loader: 2 epoch: 17 loss: 8.038077782141045\n",
      "loader: 2 epoch: 18 loss: 4.296986413071863\n",
      "loader: 2 epoch: 19 loss: 1.0741010591154918\n",
      "loader: 3 epoch: 1 loss: 142.7169293165207\n",
      "loader: 3 epoch: 2 loss: 76.99362298846245\n",
      "loader: 3 epoch: 3 loss: 60.26362597942352\n",
      "loader: 3 epoch: 4 loss: 48.224951416254044\n",
      "loader: 3 epoch: 5 loss: 35.110836528241634\n",
      "loader: 3 epoch: 6 loss: 23.685361944139004\n",
      "loader: 3 epoch: 7 loss: 15.151618488132954\n",
      "loader: 3 epoch: 8 loss: 11.650461226701736\n",
      "loader: 3 epoch: 9 loss: 8.17117306496948\n",
      "loader: 3 epoch: 10 loss: 6.828568833414465\n",
      "loader: 3 epoch: 11 loss: 3.072067881235853\n",
      "loader: 3 epoch: 12 loss: 3.5827063804026693\n",
      "loader: 3 epoch: 13 loss: 1.4470258719520643\n",
      "loader: 3 epoch: 14 loss: 0.7081764526665211\n",
      "loader: 3 epoch: 15 loss: 0.43745172390481457\n",
      "loader: 3 epoch: 16 loss: 0.32715712892240845\n",
      "loader: 3 epoch: 17 loss: 0.26158608014520723\n",
      "loader: 3 epoch: 18 loss: 0.2108438138384372\n",
      "loader: 3 epoch: 19 loss: 0.17750589015486185\n",
      "loader: 4 epoch: 1 loss: 143.24383744597435\n",
      "loader: 4 epoch: 2 loss: 74.33984154462814\n",
      "loader: 4 epoch: 3 loss: 57.09551851451397\n",
      "loader: 4 epoch: 4 loss: 47.11401058733463\n",
      "loader: 4 epoch: 5 loss: 34.57366558909416\n",
      "loader: 4 epoch: 6 loss: 22.894881140440702\n",
      "loader: 4 epoch: 7 loss: 15.941441792994738\n",
      "loader: 4 epoch: 8 loss: 12.170368995517492\n",
      "loader: 4 epoch: 9 loss: 8.348916652612388\n",
      "loader: 4 epoch: 10 loss: 4.784641521982849\n",
      "loader: 4 epoch: 11 loss: 3.655805377056822\n",
      "loader: 4 epoch: 12 loss: 4.3530513915466145\n",
      "loader: 4 epoch: 13 loss: 4.656731766881421\n",
      "loader: 4 epoch: 14 loss: 3.8972100794781\n",
      "loader: 4 epoch: 15 loss: 7.849670816445723\n",
      "loader: 4 epoch: 16 loss: 2.027123163046781\n",
      "loader: 4 epoch: 17 loss: 0.4058112487546168\n",
      "loader: 4 epoch: 18 loss: 0.24912886202218942\n",
      "loader: 4 epoch: 19 loss: 0.16915940123726614\n",
      "loader: 5 epoch: 1 loss: 143.3078578710556\n",
      "loader: 5 epoch: 2 loss: 76.31309027969837\n",
      "loader: 5 epoch: 3 loss: 57.38764797151089\n",
      "loader: 5 epoch: 4 loss: 42.27159558981657\n",
      "loader: 5 epoch: 5 loss: 31.2767071723938\n",
      "loader: 5 epoch: 6 loss: 20.79236082546413\n"
     ]
    }
   ],
   "source": [
    "from tqdm import tqdm\n",
    "#Warm-up Loop\n",
    "N_EPOCHS = 20\n",
    "\n",
    "for idx,loader in enumerate(data_loader_list):\n",
    "    loss_hist_dict[idx] = []\n",
    "    for epoch in range(1,N_EPOCHS):\n",
    "        epoch_loss = 0.0\n",
    "\n",
    "        for X_batch, y_batch in loader:\n",
    "            X_batch = X_batch.view(-1,28*28)\n",
    "            y_batch = y_batch.long()\n",
    "            optimizer.zero_grad()\n",
    "            y_pred = model(X_batch,idx)\n",
    "            loss = nll_loss(y_pred,y_batch)\n",
    "            loss.backward()\n",
    "            optimizer.step()\n",
    "            epoch_loss += loss.item()\n",
    "        \n",
    "        loss_hist_dict[idx].append(epoch_loss)\n",
    "        print(f'loader: {idx} epoch: {epoch} loss: {epoch_loss}')\n",
    "\n",
    "        "
   ]
  },
  {
   "cell_type": "code",
   "execution_count": null,
   "metadata": {},
   "outputs": [
    {
     "data": {
      "text/plain": [
       "<matplotlib.image.AxesImage at 0x12e80f79ca0>"
      ]
     },
     "execution_count": 99,
     "metadata": {},
     "output_type": "execute_result"
    },
    {
     "data": {
      "image/png": "[encoded data removed]",
      "text/plain": [
       "<Figure size 432x288 with 1 Axes>"
      ]
     },
     "metadata": {
      "needs_background": "light"
     },
     "output_type": "display_data"
    }
   ],
   "source": [
    "plt.imshow(torch.tensor_split(X_train_t,30,dim=0)[0].detach().numpy()[0,0,:,:])"
   ]
  },
  {
   "cell_type": "code",
   "execution_count": null,
   "metadata": {},
   "outputs": [
    {
     "data": {
      "text/plain": [
       "torch.Size([20, 10])"
      ]
     },
     "execution_count": 115,
     "metadata": {},
     "output_type": "execute_result"
    }
   ],
   "source": [
    "y_pred.shape"
   ]
  },
  {
   "cell_type": "code",
   "execution_count": null,
   "metadata": {},
   "outputs": [
    {
     "data": {
      "text/plain": [
       "tensor([1, 7, 5, 1, 3, 0, 2, 1, 7, 3, 1, 4, 7, 3, 7, 7, 8, 2, 3, 7])"
      ]
     },
     "execution_count": 117,
     "metadata": {},
     "output_type": "execute_result"
    }
   ],
   "source": [
    "y_batch.long()"
   ]
  },
  {
   "cell_type": "code",
   "execution_count": null,
   "metadata": {},
   "outputs": [],
   "source": []
  }
 ],
 "metadata": {
  "interpreter": {
   "hash": "92fd6134afde98d59026f11d273187d167496709da5e40ccd028795ab1362aa3"
  },
  "kernelspec": {
   "display_name": "Python 3.9.7 64-bit ('lpne': conda)",
   "name": "python3"
  },
  "language_info": {
   "codemirror_mode": {
    "name": "ipython",
    "version": 3
   },
   "file_extension": ".py",
   "mimetype": "text/x-python",
   "name": "python",
   "nbconvert_exporter": "python",
   "pygments_lexer": "ipython3",
   "version": "3.9.7"
  },
  "orig_nbformat": 4
 },
 "nbformat": 4,
 "nbformat_minor": 2
}
