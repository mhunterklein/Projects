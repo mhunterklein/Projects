{
 "cells": [
  {
   "cell_type": "code",
   "execution_count": 1,
   "metadata": {},
   "outputs": [],
   "source": [
    "from __future__ import absolute_import, division, print_function\n",
    "\n",
    "import base64\n",
    "import imageio\n",
    "import IPython\n",
    "import matplotlib\n",
    "import matplotlib.pyplot as plt\n",
    "import numpy as np\n",
    "import PIL.Image\n",
    "import pyvirtualdisplay\n",
    "\n",
    "import tensorflow as tf\n",
    "\n",
    "from tf_agents.agents.dqn import dqn_agent\n",
    "from tf_agents.drivers import dynamic_step_driver\n",
    "from tf_agents.environments import suite_gym\n",
    "from tf_agents.environments import tf_py_environment\n",
    "from tf_agents.eval import metric_utils\n",
    "from tf_agents.metrics import tf_metrics\n",
    "from tf_agents.networks import q_network\n",
    "from tf_agents.policies import random_tf_policy\n",
    "from tf_agents.replay_buffers import tf_uniform_replay_buffer\n",
    "from tf_agents.trajectories import trajectory\n",
    "from tf_agents.utils import common"
   ]
  },
  {
   "cell_type": "code",
   "execution_count": 2,
   "metadata": {},
   "outputs": [],
   "source": [
    "tf.compat.v1.enable_v2_behavior()\n",
    "\n",
    "# Set up a virtual display for rendering OpenAI gym environments.\n",
    "display = pyvirtualdisplay.Display(visible=0, size=(1400, 900)).start()"
   ]
  },
  {
   "cell_type": "code",
   "execution_count": 3,
   "metadata": {},
   "outputs": [
    {
     "data": {
      "text/plain": [
       "'2.1.0'"
      ]
     },
     "execution_count": 3,
     "metadata": {},
     "output_type": "execute_result"
    }
   ],
   "source": [
    "tf.version.VERSION"
   ]
  },
  {
   "cell_type": "code",
   "execution_count": 4,
   "metadata": {},
   "outputs": [],
   "source": [
    "num_iterations = 20000 # @param {type:\"integer\"}\n",
    "\n",
    "initial_collect_steps = 1000  # @param {type:\"integer\"} \n",
    "collect_steps_per_iteration = 1  # @param {type:\"integer\"}\n",
    "replay_buffer_max_length = 100000  # @param {type:\"integer\"}\n",
    "\n",
    "batch_size = 64  # @param {type:\"integer\"}\n",
    "learning_rate = 1e-3  # @param {type:\"number\"}\n",
    "log_interval = 200  # @param {type:\"integer\"}\n",
    "\n",
    "num_eval_episodes = 10  # @param {type:\"integer\"}\n",
    "eval_interval = 1000  # @param {type:\"integer\"}"
   ]
  },
  {
   "cell_type": "code",
   "execution_count": 5,
   "metadata": {},
   "outputs": [],
   "source": [
    "env_name = 'CartPole-v0'\n",
    "env = suite_gym.load(env_name)"
   ]
  },
  {
   "cell_type": "code",
   "execution_count": 6,
   "metadata": {},
   "outputs": [
    {
     "name": "stdout",
     "output_type": "stream",
     "text": [
      "Observation Spec:\n",
      "BoundedArraySpec(shape=(4,), dtype=dtype('float32'), name='observation', minimum=[-4.8000002e+00 -3.4028235e+38 -4.1887903e-01 -3.4028235e+38], maximum=[4.8000002e+00 3.4028235e+38 4.1887903e-01 3.4028235e+38])\n"
     ]
    }
   ],
   "source": [
    "env.reset()\n",
    "print('Observation Spec:')\n",
    "print(env.time_step_spec().observation)"
   ]
  },
  {
   "cell_type": "code",
   "execution_count": 7,
   "metadata": {},
   "outputs": [
    {
     "name": "stdout",
     "output_type": "stream",
     "text": [
      "Reward Spec:\n",
      "ArraySpec(shape=(), dtype=dtype('float32'), name='reward')\n"
     ]
    }
   ],
   "source": [
    "print('Reward Spec:')\n",
    "print(env.time_step_spec().reward)"
   ]
  },
  {
   "cell_type": "code",
   "execution_count": 8,
   "metadata": {},
   "outputs": [
    {
     "name": "stdout",
     "output_type": "stream",
     "text": [
      "Action Spec:\n",
      "BoundedArraySpec(shape=(), dtype=dtype('int64'), name='action', minimum=0, maximum=1)\n"
     ]
    }
   ],
   "source": [
    "print('Action Spec:')\n",
    "print(env.action_spec())"
   ]
  },
  {
   "cell_type": "code",
   "execution_count": 9,
   "metadata": {},
   "outputs": [
    {
     "name": "stdout",
     "output_type": "stream",
     "text": [
      "Time step:\n",
      "TimeStep(step_type=array(0, dtype=int32), reward=array(0., dtype=float32), discount=array(1., dtype=float32), observation=array([-0.00959991,  0.02789431, -0.01717706,  0.01225846], dtype=float32))\n",
      "Next time step:\n",
      "TimeStep(step_type=array(1, dtype=int32), reward=array(1., dtype=float32), discount=array(1., dtype=float32), observation=array([-0.00904203,  0.22325835, -0.01693189, -0.28579417], dtype=float32))\n"
     ]
    }
   ],
   "source": [
    "time_step = env.reset()\n",
    "print('Time step:')\n",
    "print(time_step)\n",
    "\n",
    "action = np.array(1, dtype=np.int32)\n",
    "\n",
    "next_time_step = env.step(action)\n",
    "print('Next time step:')\n",
    "print(next_time_step)"
   ]
  },
  {
   "cell_type": "code",
   "execution_count": 10,
   "metadata": {},
   "outputs": [],
   "source": [
    "train_py_env = suite_gym.load(env_name)\n",
    "eval_py_env = suite_gym.load(env_name)"
   ]
  },
  {
   "cell_type": "code",
   "execution_count": 11,
   "metadata": {},
   "outputs": [],
   "source": [
    "train_env = tf_py_environment.TFPyEnvironment(train_py_env)\n",
    "eval_env = tf_py_environment.TFPyEnvironment(eval_py_env)\n"
   ]
  },
  {
   "cell_type": "code",
   "execution_count": 12,
   "metadata": {},
   "outputs": [],
   "source": [
    "fc_layer_params = (100,)\n",
    "\n",
    "q_net = q_network.QNetwork(\n",
    "    train_env.observation_spec(),\n",
    "    train_env.action_spec(),\n",
    "    fc_layer_params=fc_layer_params)"
   ]
  },
  {
   "cell_type": "code",
   "execution_count": 13,
   "metadata": {},
   "outputs": [],
   "source": [
    "optimizer = tf.compat.v1.train.AdamOptimizer(learning_rate=learning_rate)\n",
    "\n",
    "train_step_counter = tf.Variable(0)\n",
    "\n",
    "agent = dqn_agent.DqnAgent(\n",
    "    train_env.time_step_spec(),\n",
    "    train_env.action_spec(),\n",
    "    q_network=q_net,\n",
    "    optimizer=optimizer,\n",
    "    td_errors_loss_fn=common.element_wise_squared_loss,\n",
    "    train_step_counter=train_step_counter)\n",
    "\n",
    "agent.initialize()"
   ]
  },
  {
   "cell_type": "code",
   "execution_count": 14,
   "metadata": {},
   "outputs": [],
   "source": [
    "eval_policy = agent.policy\n",
    "collect_policy = agent.collect_policy"
   ]
  },
  {
   "cell_type": "code",
   "execution_count": 15,
   "metadata": {},
   "outputs": [],
   "source": [
    "random_policy = random_tf_policy.RandomTFPolicy(train_env.time_step_spec(),\n",
    "                                                train_env.action_spec())"
   ]
  },
  {
   "cell_type": "code",
   "execution_count": 16,
   "metadata": {},
   "outputs": [],
   "source": [
    "example_environment = tf_py_environment.TFPyEnvironment(\n",
    "    suite_gym.load('CartPole-v0'))"
   ]
  },
  {
   "cell_type": "code",
   "execution_count": 17,
   "metadata": {},
   "outputs": [],
   "source": [
    "time_step = example_environment.reset()\n"
   ]
  },
  {
   "cell_type": "code",
   "execution_count": 18,
   "metadata": {},
   "outputs": [
    {
     "data": {
      "text/plain": [
       "PolicyStep(action=<tf.Tensor: shape=(1,), dtype=int64, numpy=array([0])>, state=(), info=())"
      ]
     },
     "execution_count": 18,
     "metadata": {},
     "output_type": "execute_result"
    }
   ],
   "source": [
    "random_policy.action(time_step)"
   ]
  },
  {
   "cell_type": "code",
   "execution_count": 19,
   "metadata": {},
   "outputs": [],
   "source": [
    "def compute_avg_return(environment, policy, num_episodes=10):\n",
    "\n",
    "  total_return = 0.0\n",
    "  for _ in range(num_episodes):\n",
    "\n",
    "    time_step = environment.reset()\n",
    "    episode_return = 0.0\n",
    "\n",
    "    while not time_step.is_last():\n",
    "      action_step = policy.action(time_step)\n",
    "      time_step = environment.step(action_step.action)\n",
    "      episode_return += time_step.reward\n",
    "    total_return += episode_return\n",
    "\n",
    "  avg_return = total_return / num_episodes\n",
    "  return avg_return.numpy()[0]"
   ]
  },
  {
   "cell_type": "code",
   "execution_count": 20,
   "metadata": {},
   "outputs": [
    {
     "data": {
      "text/plain": [
       "25.2"
      ]
     },
     "execution_count": 20,
     "metadata": {},
     "output_type": "execute_result"
    }
   ],
   "source": [
    "compute_avg_return(eval_env, random_policy, num_eval_episodes)"
   ]
  },
  {
   "cell_type": "code",
   "execution_count": 21,
   "metadata": {},
   "outputs": [],
   "source": [
    "replay_buffer = tf_uniform_replay_buffer.TFUniformReplayBuffer(\n",
    "    data_spec=agent.collect_data_spec,\n",
    "    batch_size=train_env.batch_size,\n",
    "    max_length=replay_buffer_max_length)"
   ]
  },
  {
   "cell_type": "code",
   "execution_count": 22,
   "metadata": {},
   "outputs": [
    {
     "data": {
      "text/plain": [
       "Trajectory(step_type=TensorSpec(shape=(), dtype=tf.int32, name='step_type'), observation=BoundedTensorSpec(shape=(4,), dtype=tf.float32, name='observation', minimum=array([-4.8000002e+00, -3.4028235e+38, -4.1887903e-01, -3.4028235e+38],\n",
       "      dtype=float32), maximum=array([4.8000002e+00, 3.4028235e+38, 4.1887903e-01, 3.4028235e+38],\n",
       "      dtype=float32)), action=BoundedTensorSpec(shape=(), dtype=tf.int64, name='action', minimum=array(0), maximum=array(1)), policy_info=(), next_step_type=TensorSpec(shape=(), dtype=tf.int32, name='step_type'), reward=TensorSpec(shape=(), dtype=tf.float32, name='reward'), discount=BoundedTensorSpec(shape=(), dtype=tf.float32, name='discount', minimum=array(0., dtype=float32), maximum=array(1., dtype=float32)))"
      ]
     },
     "execution_count": 22,
     "metadata": {},
     "output_type": "execute_result"
    }
   ],
   "source": [
    "agent.collect_data_spec"
   ]
  },
  {
   "cell_type": "code",
   "execution_count": 23,
   "metadata": {},
   "outputs": [
    {
     "data": {
      "text/plain": [
       "('step_type',\n",
       " 'observation',\n",
       " 'action',\n",
       " 'policy_info',\n",
       " 'next_step_type',\n",
       " 'reward',\n",
       " 'discount')"
      ]
     },
     "execution_count": 23,
     "metadata": {},
     "output_type": "execute_result"
    }
   ],
   "source": [
    "agent.collect_data_spec._fields"
   ]
  },
  {
   "cell_type": "code",
   "execution_count": 24,
   "metadata": {},
   "outputs": [],
   "source": [
    "def collect_step(environment, policy, buffer):\n",
    "  time_step = environment.current_time_step()\n",
    "  action_step = policy.action(time_step)\n",
    "  next_time_step = environment.step(action_step.action)\n",
    "  traj = trajectory.from_transition(time_step, action_step, next_time_step)\n",
    "\n",
    "  # Add trajectory to the replay buffer\n",
    "  buffer.add_batch(traj)\n",
    "\n",
    "def collect_data(env, policy, buffer, steps):\n",
    "  for _ in range(steps):\n",
    "    collect_step(env, policy, buffer)\n",
    "\n",
    "collect_data(train_env, random_policy, replay_buffer, steps=100)\n",
    "\n",
    "# This loop is so common in RL, that we provide standard implementations. \n",
    "# For more details see the drivers module.\n",
    "# https://github.com/tensorflow/agents/blob/master/tf_agents/docs/python/tf_agents/drivers.md"
   ]
  },
  {
   "cell_type": "code",
   "execution_count": 25,
   "metadata": {},
   "outputs": [
    {
     "data": {
      "text/plain": [
       "(Trajectory(step_type=<tf.Tensor: shape=(), dtype=int32, numpy=1>, observation=<tf.Tensor: shape=(4,), dtype=float32, numpy=array([ 0.02409939, -0.8116995 ,  0.04814037,  1.2934853 ], dtype=float32)>, action=<tf.Tensor: shape=(), dtype=int64, numpy=0>, policy_info=(), next_step_type=<tf.Tensor: shape=(), dtype=int32, numpy=1>, reward=<tf.Tensor: shape=(), dtype=float32, numpy=1.0>, discount=<tf.Tensor: shape=(), dtype=float32, numpy=1.0>),\n",
       " BufferInfo(ids=<tf.Tensor: shape=(), dtype=int64, numpy=62>, probabilities=<tf.Tensor: shape=(), dtype=float32, numpy=0.01>))"
      ]
     },
     "execution_count": 25,
     "metadata": {},
     "output_type": "execute_result"
    }
   ],
   "source": [
    "iter(replay_buffer.as_dataset()).next()"
   ]
  },
  {
   "cell_type": "code",
   "execution_count": 26,
   "metadata": {},
   "outputs": [
    {
     "data": {
      "text/plain": [
       "<PrefetchDataset shapes: (Trajectory(step_type=(64, 2), observation=(64, 2, 4), action=(64, 2), policy_info=(), next_step_type=(64, 2), reward=(64, 2), discount=(64, 2)), BufferInfo(ids=(64, 2), probabilities=(64,))), types: (Trajectory(step_type=tf.int32, observation=tf.float32, action=tf.int64, policy_info=(), next_step_type=tf.int32, reward=tf.float32, discount=tf.float32), BufferInfo(ids=tf.int64, probabilities=tf.float32))>"
      ]
     },
     "execution_count": 26,
     "metadata": {},
     "output_type": "execute_result"
    }
   ],
   "source": [
    "# Dataset generates trajectories with shape [Bx2x...]\n",
    "dataset = replay_buffer.as_dataset(\n",
    "    num_parallel_calls=3, \n",
    "    sample_batch_size=batch_size, \n",
    "    num_steps=2).prefetch(3)\n",
    "\n",
    "\n",
    "dataset"
   ]
  },
  {
   "cell_type": "code",
   "execution_count": 27,
   "metadata": {},
   "outputs": [
    {
     "name": "stdout",
     "output_type": "stream",
     "text": [
      "<tensorflow.python.data.ops.iterator_ops.OwnedIterator object at 0x7f632c336110>\n"
     ]
    }
   ],
   "source": [
    "iterator = iter(dataset)\n",
    "\n",
    "print(iterator)"
   ]
  },
  {
   "cell_type": "code",
   "execution_count": 28,
   "metadata": {},
   "outputs": [
    {
     "name": "stdout",
     "output_type": "stream",
     "text": [
      "step = 200: loss = 10.953755378723145\n",
      "step = 400: loss = 15.246269226074219\n",
      "step = 600: loss = 2.918768882751465\n",
      "step = 800: loss = 12.83841323852539\n",
      "step = 1000: loss = 39.958412170410156\n",
      "step = 1000: Average Return = 13.300000190734863\n",
      "step = 1200: loss = 32.52157211303711\n",
      "step = 1400: loss = 5.864881992340088\n",
      "step = 1600: loss = 10.832016944885254\n",
      "step = 1800: loss = 3.213768720626831\n",
      "step = 2000: loss = 19.301313400268555\n",
      "step = 2000: Average Return = 33.099998474121094\n",
      "step = 2200: loss = 23.580734252929688\n",
      "step = 2400: loss = 17.212051391601562\n",
      "step = 2600: loss = 7.17241907119751\n",
      "step = 2800: loss = 25.289783477783203\n",
      "step = 3000: loss = 14.862983703613281\n",
      "step = 3000: Average Return = 59.5\n",
      "step = 3200: loss = 12.612951278686523\n",
      "step = 3400: loss = 12.860310554504395\n",
      "step = 3600: loss = 12.678122520446777\n",
      "step = 3800: loss = 13.212686538696289\n",
      "step = 4000: loss = 44.80937957763672\n",
      "step = 4000: Average Return = 103.19999694824219\n",
      "step = 4200: loss = 21.724010467529297\n",
      "step = 4400: loss = 71.85623931884766\n",
      "step = 4600: loss = 22.77055549621582\n",
      "step = 4800: loss = 77.43551635742188\n",
      "step = 5000: loss = 5.050602912902832\n",
      "step = 5000: Average Return = 105.0\n",
      "step = 5200: loss = 2.7200098037719727\n",
      "step = 5400: loss = 7.2858805656433105\n",
      "step = 5600: loss = 93.71295928955078\n",
      "step = 5800: loss = 175.90652465820312\n",
      "step = 6000: loss = 51.659873962402344\n",
      "step = 6000: Average Return = 110.30000305175781\n",
      "step = 6200: loss = 22.003841400146484\n",
      "step = 6400: loss = 9.758707046508789\n",
      "step = 6600: loss = 90.65681457519531\n",
      "step = 6800: loss = 58.154808044433594\n",
      "step = 7000: loss = 36.05222702026367\n",
      "step = 7000: Average Return = 172.10000610351562\n",
      "step = 7200: loss = 19.153305053710938\n",
      "step = 7400: loss = 134.57858276367188\n",
      "step = 7600: loss = 172.25827026367188\n",
      "step = 7800: loss = 10.122153282165527\n",
      "step = 8000: loss = 13.888309478759766\n",
      "step = 8000: Average Return = 119.30000305175781\n",
      "step = 8200: loss = 57.17285919189453\n",
      "step = 8400: loss = 10.266600608825684\n",
      "step = 8600: loss = 5.065079689025879\n",
      "step = 8800: loss = 243.74127197265625\n",
      "step = 9000: loss = 144.41162109375\n",
      "step = 9000: Average Return = 112.4000015258789\n",
      "step = 9200: loss = 40.21502685546875\n",
      "step = 9400: loss = 553.150634765625\n",
      "step = 9600: loss = 42.90999984741211\n",
      "step = 9800: loss = 181.09625244140625\n",
      "step = 10000: loss = 8.77469253540039\n",
      "step = 10000: Average Return = 177.6999969482422\n",
      "step = 10200: loss = 102.06602478027344\n",
      "step = 10400: loss = 8.584749221801758\n",
      "step = 10600: loss = 20.641586303710938\n",
      "step = 10800: loss = 562.33544921875\n",
      "step = 11000: loss = 7.204141139984131\n",
      "step = 11000: Average Return = 179.89999389648438\n",
      "step = 11200: loss = 602.653076171875\n",
      "step = 11400: loss = 33.10298538208008\n",
      "step = 11600: loss = 11.420652389526367\n",
      "step = 11800: loss = 272.6579895019531\n",
      "step = 12000: loss = 73.50499725341797\n",
      "step = 12000: Average Return = 179.5\n",
      "step = 12200: loss = 170.94288635253906\n",
      "step = 12400: loss = 11.842704772949219\n",
      "step = 12600: loss = 23.862119674682617\n",
      "step = 12800: loss = 44.00446701049805\n",
      "step = 13000: loss = 33.27243423461914\n",
      "step = 13000: Average Return = 170.0\n",
      "step = 13200: loss = 9.874224662780762\n",
      "step = 13400: loss = 59.86919403076172\n",
      "step = 13600: loss = 151.85089111328125\n",
      "step = 13800: loss = 69.26471710205078\n",
      "step = 14000: loss = 666.148193359375\n",
      "step = 14000: Average Return = 182.6999969482422\n",
      "step = 14200: loss = 200.38356018066406\n",
      "step = 14400: loss = 17.459686279296875\n",
      "step = 14600: loss = 12.147618293762207\n",
      "step = 14800: loss = 9.002623558044434\n",
      "step = 15000: loss = 635.316650390625\n",
      "step = 15000: Average Return = 200.0\n",
      "step = 15200: loss = 934.8004150390625\n",
      "step = 15400: loss = 876.4190063476562\n",
      "step = 15600: loss = 171.54513549804688\n",
      "step = 15800: loss = 203.55125427246094\n",
      "step = 16000: loss = 23.38627052307129\n",
      "step = 16000: Average Return = 196.3000030517578\n",
      "step = 16200: loss = 11.484796524047852\n",
      "step = 16400: loss = 30.670997619628906\n",
      "step = 16600: loss = 702.00927734375\n",
      "step = 16800: loss = 60.80327224731445\n",
      "step = 17000: loss = 73.620361328125\n",
      "step = 17000: Average Return = 184.0\n",
      "step = 17200: loss = 29.363380432128906\n",
      "step = 17400: loss = 29.480716705322266\n",
      "step = 17600: loss = 1146.4962158203125\n",
      "step = 17800: loss = 75.22405242919922\n",
      "step = 18000: loss = 236.65093994140625\n",
      "step = 18000: Average Return = 192.39999389648438\n",
      "step = 18200: loss = 30.03328514099121\n",
      "step = 18400: loss = 32.986663818359375\n",
      "step = 18600: loss = 21.89007568359375\n",
      "step = 18800: loss = 16.228504180908203\n",
      "step = 19000: loss = 20.944278717041016\n",
      "step = 19000: Average Return = 181.39999389648438\n",
      "step = 19200: loss = 106.10969543457031\n",
      "step = 19400: loss = 23.625747680664062\n",
      "step = 19600: loss = 19.207244873046875\n",
      "step = 19800: loss = 124.12419891357422\n",
      "step = 20000: loss = 98.95669555664062\n",
      "step = 20000: Average Return = 186.5\n"
     ]
    }
   ],
   "source": [
    "try:\n",
    "  %%time\n",
    "except:\n",
    "  pass\n",
    "\n",
    "# (Optional) Optimize by wrapping some of the code in a graph using TF function.\n",
    "agent.train = common.function(agent.train)\n",
    "\n",
    "# Reset the train step\n",
    "agent.train_step_counter.assign(0)\n",
    "\n",
    "# Evaluate the agent's policy once before training.\n",
    "avg_return = compute_avg_return(eval_env, agent.policy, num_eval_episodes)\n",
    "returns = [avg_return]\n",
    "\n",
    "for _ in range(num_iterations):\n",
    "\n",
    "  # Collect a few steps using collect_policy and save to the replay buffer.\n",
    "  for _ in range(collect_steps_per_iteration):\n",
    "    collect_step(train_env, agent.collect_policy, replay_buffer)\n",
    "\n",
    "  # Sample a batch of data from the buffer and update the agent's network.\n",
    "  experience, unused_info = next(iterator)\n",
    "  train_loss = agent.train(experience).loss\n",
    "\n",
    "  step = agent.train_step_counter.numpy()\n",
    "\n",
    "  if step % log_interval == 0:\n",
    "    print('step = {0}: loss = {1}'.format(step, train_loss))\n",
    "\n",
    "  if step % eval_interval == 0:\n",
    "    avg_return = compute_avg_return(eval_env, agent.policy, num_eval_episodes)\n",
    "    print('step = {0}: Average Return = {1}'.format(step, avg_return))\n",
    "    returns.append(avg_return)"
   ]
  },
  {
   "cell_type": "code",
   "execution_count": 29,
   "metadata": {},
   "outputs": [
    {
     "data": {
      "text/plain": [
       "(3.755000400543212, 250)"
      ]
     },
     "execution_count": 29,
     "metadata": {},
     "output_type": "execute_result"
    },
    {
     "data": {
      "image/png": "[encoded data removed]",
      "text/plain": [
       "<Figure size 432x288 with 1 Axes>"
      ]
     },
     "metadata": {
      "needs_background": "light"
     },
     "output_type": "display_data"
    }
   ],
   "source": [
    "iterations = range(0, num_iterations + 1, eval_interval)\n",
    "plt.plot(iterations, returns)\n",
    "plt.ylabel('Average Return')\n",
    "plt.xlabel('Iterations')\n",
    "plt.ylim(top=250)"
   ]
  },
  {
   "cell_type": "code",
   "execution_count": 30,
   "metadata": {},
   "outputs": [],
   "source": [
    "def embed_mp4(filename):\n",
    "  \"\"\"Embeds an mp4 file in the notebook.\"\"\"\n",
    "  video = open(filename,'rb').read()\n",
    "  b64 = base64.b64encode(video)\n",
    "  tag = '''\n",
    "  <video width=\"640\" height=\"480\" controls>\n",
    "    <source src=\"data:video/mp4;base64,{0}\" type=\"video/mp4\">\n",
    "  Your browser does not support the video tag.\n",
    "  </video>'''.format(b64.decode())\n",
    "\n",
    "  return IPython.display.HTML(tag)"
   ]
  },
  {
   "cell_type": "code",
   "execution_count": 31,
   "metadata": {},
   "outputs": [
    {
     "name": "stderr",
     "output_type": "stream",
     "text": [
      "WARNING:root:IMAGEIO FFMPEG_WRITER WARNING: input image is not divisible by macro_block_size=16, resizing from (400, 600) to (400, 608) to ensure video compatibility with most codecs and players. To prevent resizing, make your input image divisible by the macro_block_size or set the macro_block_size to None (risking incompatibility). You may also see a FFMPEG warning concerning speedloss due to data not being aligned.\n"
     ]
    },
    {
     "data": {
      "text/html": [
       "\n",
       "  <video width=\"640\" height=\"480\" controls>\n",
       "    <source src=\"data:video/mp4;base64,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\" type=\"video/mp4\">\n",
       "  Your browser does not support the video tag.\n",
       "  </video>"
      ],
      "text/plain": [
       "<IPython.core.display.HTML object>"
      ]
     },
     "execution_count": 31,
     "metadata": {},
     "output_type": "execute_result"
    }
   ],
   "source": [
    "def create_policy_eval_video(policy, filename, num_episodes=5, fps=30):\n",
    "  filename = filename + \".mp4\"\n",
    "  with imageio.get_writer(filename, fps=fps) as video:\n",
    "    for _ in range(num_episodes):\n",
    "      time_step = eval_env.reset()\n",
    "      video.append_data(eval_py_env.render())\n",
    "      while not time_step.is_last():\n",
    "        action_step = policy.action(time_step)\n",
    "        time_step = eval_env.step(action_step.action)\n",
    "        video.append_data(eval_py_env.render())\n",
    "  return embed_mp4(filename)\n",
    "\n",
    "\n",
    "\n",
    "\n",
    "create_policy_eval_video(agent.policy, \"trained-agent\")"
   ]
  },
  {
   "cell_type": "code",
   "execution_count": null,
   "metadata": {},
   "outputs": [],
   "source": []
  }
 ],
 "metadata": {
  "kernelspec": {
   "display_name": "Python 3",
   "language": "python",
   "name": "python3"
  },
  "language_info": {
   "codemirror_mode": {
    "name": "ipython",
    "version": 3
   },
   "file_extension": ".py",
   "mimetype": "text/x-python",
   "name": "python",
   "nbconvert_exporter": "python",
   "pygments_lexer": "ipython3",
   "version": "3.7.7"
  }
 },
 "nbformat": 4,
 "nbformat_minor": 4
}
